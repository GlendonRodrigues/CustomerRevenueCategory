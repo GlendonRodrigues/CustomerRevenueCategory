{
 "cells": [
  {
   "cell_type": "code",
   "execution_count": 1,
   "metadata": {},
   "outputs": [],
   "source": [
    "#predicting revenue potential from each customer"
   ]
  },
  {
   "cell_type": "code",
   "execution_count": 2,
   "metadata": {},
   "outputs": [],
   "source": [
    "import pandas as pd\n",
    "import numpy as np\n",
    "\n",
    "bd_train = pd.read_csv('rg_train.csv')\n",
    "bd_test = pd.read_csv('rg_test.csv')"
   ]
  },
  {
   "cell_type": "code",
   "execution_count": 3,
   "metadata": {},
   "outputs": [
    {
     "data": {
      "text/html": [
       "<div>\n",
       "<style scoped>\n",
       "    .dataframe tbody tr th:only-of-type {\n",
       "        vertical-align: middle;\n",
       "    }\n",
       "\n",
       "    .dataframe tbody tr th {\n",
       "        vertical-align: top;\n",
       "    }\n",
       "\n",
       "    .dataframe thead th {\n",
       "        text-align: right;\n",
       "    }\n",
       "</style>\n",
       "<table border=\"1\" class=\"dataframe\">\n",
       "  <thead>\n",
       "    <tr style=\"text-align: right;\">\n",
       "      <th></th>\n",
       "      <th>REF_NO</th>\n",
       "      <th>children</th>\n",
       "      <th>age_band</th>\n",
       "      <th>status</th>\n",
       "      <th>occupation</th>\n",
       "      <th>occupation_partner</th>\n",
       "      <th>home_status</th>\n",
       "      <th>family_income</th>\n",
       "      <th>self_employed</th>\n",
       "      <th>self_employed_partner</th>\n",
       "      <th>...</th>\n",
       "      <th>Investment.Tax.Saving.Bond</th>\n",
       "      <th>Home.Loan</th>\n",
       "      <th>Online.Purchase.Amount</th>\n",
       "      <th>Revenue.Grid</th>\n",
       "      <th>gender</th>\n",
       "      <th>region</th>\n",
       "      <th>Investment.in.Commudity</th>\n",
       "      <th>Investment.in.Equity</th>\n",
       "      <th>Investment.in.Derivative</th>\n",
       "      <th>Portfolio.Balance</th>\n",
       "    </tr>\n",
       "  </thead>\n",
       "  <tbody>\n",
       "    <tr>\n",
       "      <td>0</td>\n",
       "      <td>2148</td>\n",
       "      <td>1</td>\n",
       "      <td>45-50</td>\n",
       "      <td>Partner</td>\n",
       "      <td>Professional</td>\n",
       "      <td>Professional</td>\n",
       "      <td>Rent Privately</td>\n",
       "      <td>&gt;=35,000</td>\n",
       "      <td>Yes</td>\n",
       "      <td>Yes</td>\n",
       "      <td>...</td>\n",
       "      <td>7.49</td>\n",
       "      <td>2.48</td>\n",
       "      <td>0.0</td>\n",
       "      <td>2</td>\n",
       "      <td>Female</td>\n",
       "      <td>South West</td>\n",
       "      <td>65.87</td>\n",
       "      <td>9.27</td>\n",
       "      <td>30.93</td>\n",
       "      <td>87.48</td>\n",
       "    </tr>\n",
       "    <tr>\n",
       "      <td>1</td>\n",
       "      <td>8099</td>\n",
       "      <td>1</td>\n",
       "      <td>61-65</td>\n",
       "      <td>Partner</td>\n",
       "      <td>Retired</td>\n",
       "      <td>Retired</td>\n",
       "      <td>Own Home</td>\n",
       "      <td>&lt;12,500, &gt;=10,000</td>\n",
       "      <td>No</td>\n",
       "      <td>No</td>\n",
       "      <td>...</td>\n",
       "      <td>0.00</td>\n",
       "      <td>3.99</td>\n",
       "      <td>0.0</td>\n",
       "      <td>2</td>\n",
       "      <td>Female</td>\n",
       "      <td>Unknown</td>\n",
       "      <td>42.46</td>\n",
       "      <td>4.49</td>\n",
       "      <td>26.23</td>\n",
       "      <td>110.73</td>\n",
       "    </tr>\n",
       "    <tr>\n",
       "      <td>2</td>\n",
       "      <td>6611</td>\n",
       "      <td>3</td>\n",
       "      <td>31-35</td>\n",
       "      <td>Partner</td>\n",
       "      <td>Professional</td>\n",
       "      <td>Professional</td>\n",
       "      <td>Own Home</td>\n",
       "      <td>&gt;=35,000</td>\n",
       "      <td>No</td>\n",
       "      <td>No</td>\n",
       "      <td>...</td>\n",
       "      <td>0.00</td>\n",
       "      <td>0.00</td>\n",
       "      <td>0.0</td>\n",
       "      <td>2</td>\n",
       "      <td>Male</td>\n",
       "      <td>East Anglia</td>\n",
       "      <td>75.38</td>\n",
       "      <td>0.00</td>\n",
       "      <td>26.66</td>\n",
       "      <td>127.57</td>\n",
       "    </tr>\n",
       "    <tr>\n",
       "      <td>3</td>\n",
       "      <td>1950</td>\n",
       "      <td>Zero</td>\n",
       "      <td>55-60</td>\n",
       "      <td>Partner</td>\n",
       "      <td>Professional</td>\n",
       "      <td>Professional</td>\n",
       "      <td>Own Home</td>\n",
       "      <td>&gt;=35,000</td>\n",
       "      <td>No</td>\n",
       "      <td>No</td>\n",
       "      <td>...</td>\n",
       "      <td>2.00</td>\n",
       "      <td>0.00</td>\n",
       "      <td>0.0</td>\n",
       "      <td>2</td>\n",
       "      <td>Female</td>\n",
       "      <td>North West</td>\n",
       "      <td>34.78</td>\n",
       "      <td>6.91</td>\n",
       "      <td>29.24</td>\n",
       "      <td>33.79</td>\n",
       "    </tr>\n",
       "    <tr>\n",
       "      <td>4</td>\n",
       "      <td>10857</td>\n",
       "      <td>2</td>\n",
       "      <td>51-55</td>\n",
       "      <td>Partner</td>\n",
       "      <td>Manual Worker</td>\n",
       "      <td>Manual Worker</td>\n",
       "      <td>Own Home</td>\n",
       "      <td>&lt;27,500, &gt;=25,000</td>\n",
       "      <td>Yes</td>\n",
       "      <td>Yes</td>\n",
       "      <td>...</td>\n",
       "      <td>0.00</td>\n",
       "      <td>0.00</td>\n",
       "      <td>0.0</td>\n",
       "      <td>2</td>\n",
       "      <td>Female</td>\n",
       "      <td>South West</td>\n",
       "      <td>48.58</td>\n",
       "      <td>9.58</td>\n",
       "      <td>20.65</td>\n",
       "      <td>56.17</td>\n",
       "    </tr>\n",
       "  </tbody>\n",
       "</table>\n",
       "<p>5 rows × 32 columns</p>\n",
       "</div>"
      ],
      "text/plain": [
       "   REF_NO children age_band   status     occupation occupation_partner  \\\n",
       "0    2148        1    45-50  Partner   Professional       Professional   \n",
       "1    8099        1    61-65  Partner        Retired            Retired   \n",
       "2    6611        3    31-35  Partner   Professional       Professional   \n",
       "3    1950     Zero    55-60  Partner   Professional       Professional   \n",
       "4   10857        2    51-55  Partner  Manual Worker      Manual Worker   \n",
       "\n",
       "      home_status      family_income self_employed self_employed_partner  ...  \\\n",
       "0  Rent Privately           >=35,000           Yes                   Yes  ...   \n",
       "1        Own Home  <12,500, >=10,000            No                    No  ...   \n",
       "2        Own Home           >=35,000            No                    No  ...   \n",
       "3        Own Home           >=35,000            No                    No  ...   \n",
       "4        Own Home  <27,500, >=25,000           Yes                   Yes  ...   \n",
       "\n",
       "   Investment.Tax.Saving.Bond Home.Loan Online.Purchase.Amount Revenue.Grid  \\\n",
       "0                        7.49      2.48                    0.0            2   \n",
       "1                        0.00      3.99                    0.0            2   \n",
       "2                        0.00      0.00                    0.0            2   \n",
       "3                        2.00      0.00                    0.0            2   \n",
       "4                        0.00      0.00                    0.0            2   \n",
       "\n",
       "   gender       region  Investment.in.Commudity  Investment.in.Equity  \\\n",
       "0  Female   South West                    65.87                  9.27   \n",
       "1  Female      Unknown                    42.46                  4.49   \n",
       "2    Male  East Anglia                    75.38                  0.00   \n",
       "3  Female   North West                    34.78                  6.91   \n",
       "4  Female   South West                    48.58                  9.58   \n",
       "\n",
       "   Investment.in.Derivative  Portfolio.Balance  \n",
       "0                     30.93              87.48  \n",
       "1                     26.23             110.73  \n",
       "2                     26.66             127.57  \n",
       "3                     29.24              33.79  \n",
       "4                     20.65              56.17  \n",
       "\n",
       "[5 rows x 32 columns]"
      ]
     },
     "execution_count": 3,
     "metadata": {},
     "output_type": "execute_result"
    }
   ],
   "source": [
    "bd_train.head()"
   ]
  },
  {
   "cell_type": "code",
   "execution_count": 4,
   "metadata": {},
   "outputs": [
    {
     "data": {
      "text/plain": [
       "2    7261\n",
       "1     863\n",
       "Name: Revenue.Grid, dtype: int64"
      ]
     },
     "execution_count": 4,
     "metadata": {},
     "output_type": "execute_result"
    }
   ],
   "source": [
    "bd_train['Revenue.Grid'].value_counts()"
   ]
  },
  {
   "cell_type": "code",
   "execution_count": 5,
   "metadata": {},
   "outputs": [],
   "source": [
    "bd_test['Revenue.Grid'] = np.nan\n",
    "bd_train['data'] = 'train'\n",
    "bd_test['data'] = 'test'\n",
    "bd_test = bd_test[bd_train.columns]\n",
    "bd_all = pd.concat([bd_train, bd_test], axis=0)"
   ]
  },
  {
   "cell_type": "code",
   "execution_count": 6,
   "metadata": {},
   "outputs": [
    {
     "data": {
      "text/html": [
       "<div>\n",
       "<style scoped>\n",
       "    .dataframe tbody tr th:only-of-type {\n",
       "        vertical-align: middle;\n",
       "    }\n",
       "\n",
       "    .dataframe tbody tr th {\n",
       "        vertical-align: top;\n",
       "    }\n",
       "\n",
       "    .dataframe thead th {\n",
       "        text-align: right;\n",
       "    }\n",
       "</style>\n",
       "<table border=\"1\" class=\"dataframe\">\n",
       "  <thead>\n",
       "    <tr style=\"text-align: right;\">\n",
       "      <th></th>\n",
       "      <th>REF_NO</th>\n",
       "      <th>children</th>\n",
       "      <th>age_band</th>\n",
       "      <th>status</th>\n",
       "      <th>occupation</th>\n",
       "      <th>occupation_partner</th>\n",
       "      <th>home_status</th>\n",
       "      <th>family_income</th>\n",
       "      <th>self_employed</th>\n",
       "      <th>self_employed_partner</th>\n",
       "      <th>...</th>\n",
       "      <th>Home.Loan</th>\n",
       "      <th>Online.Purchase.Amount</th>\n",
       "      <th>Revenue.Grid</th>\n",
       "      <th>gender</th>\n",
       "      <th>region</th>\n",
       "      <th>Investment.in.Commudity</th>\n",
       "      <th>Investment.in.Equity</th>\n",
       "      <th>Investment.in.Derivative</th>\n",
       "      <th>Portfolio.Balance</th>\n",
       "      <th>data</th>\n",
       "    </tr>\n",
       "  </thead>\n",
       "  <tbody>\n",
       "    <tr>\n",
       "      <td>0</td>\n",
       "      <td>2148</td>\n",
       "      <td>1</td>\n",
       "      <td>45-50</td>\n",
       "      <td>Partner</td>\n",
       "      <td>Professional</td>\n",
       "      <td>Professional</td>\n",
       "      <td>Rent Privately</td>\n",
       "      <td>&gt;=35,000</td>\n",
       "      <td>Yes</td>\n",
       "      <td>Yes</td>\n",
       "      <td>...</td>\n",
       "      <td>2.48</td>\n",
       "      <td>0.0</td>\n",
       "      <td>2.0</td>\n",
       "      <td>Female</td>\n",
       "      <td>South West</td>\n",
       "      <td>65.87</td>\n",
       "      <td>9.27</td>\n",
       "      <td>30.93</td>\n",
       "      <td>87.48</td>\n",
       "      <td>train</td>\n",
       "    </tr>\n",
       "    <tr>\n",
       "      <td>1</td>\n",
       "      <td>8099</td>\n",
       "      <td>1</td>\n",
       "      <td>61-65</td>\n",
       "      <td>Partner</td>\n",
       "      <td>Retired</td>\n",
       "      <td>Retired</td>\n",
       "      <td>Own Home</td>\n",
       "      <td>&lt;12,500, &gt;=10,000</td>\n",
       "      <td>No</td>\n",
       "      <td>No</td>\n",
       "      <td>...</td>\n",
       "      <td>3.99</td>\n",
       "      <td>0.0</td>\n",
       "      <td>2.0</td>\n",
       "      <td>Female</td>\n",
       "      <td>Unknown</td>\n",
       "      <td>42.46</td>\n",
       "      <td>4.49</td>\n",
       "      <td>26.23</td>\n",
       "      <td>110.73</td>\n",
       "      <td>train</td>\n",
       "    </tr>\n",
       "    <tr>\n",
       "      <td>2</td>\n",
       "      <td>6611</td>\n",
       "      <td>3</td>\n",
       "      <td>31-35</td>\n",
       "      <td>Partner</td>\n",
       "      <td>Professional</td>\n",
       "      <td>Professional</td>\n",
       "      <td>Own Home</td>\n",
       "      <td>&gt;=35,000</td>\n",
       "      <td>No</td>\n",
       "      <td>No</td>\n",
       "      <td>...</td>\n",
       "      <td>0.00</td>\n",
       "      <td>0.0</td>\n",
       "      <td>2.0</td>\n",
       "      <td>Male</td>\n",
       "      <td>East Anglia</td>\n",
       "      <td>75.38</td>\n",
       "      <td>0.00</td>\n",
       "      <td>26.66</td>\n",
       "      <td>127.57</td>\n",
       "      <td>train</td>\n",
       "    </tr>\n",
       "    <tr>\n",
       "      <td>3</td>\n",
       "      <td>1950</td>\n",
       "      <td>Zero</td>\n",
       "      <td>55-60</td>\n",
       "      <td>Partner</td>\n",
       "      <td>Professional</td>\n",
       "      <td>Professional</td>\n",
       "      <td>Own Home</td>\n",
       "      <td>&gt;=35,000</td>\n",
       "      <td>No</td>\n",
       "      <td>No</td>\n",
       "      <td>...</td>\n",
       "      <td>0.00</td>\n",
       "      <td>0.0</td>\n",
       "      <td>2.0</td>\n",
       "      <td>Female</td>\n",
       "      <td>North West</td>\n",
       "      <td>34.78</td>\n",
       "      <td>6.91</td>\n",
       "      <td>29.24</td>\n",
       "      <td>33.79</td>\n",
       "      <td>train</td>\n",
       "    </tr>\n",
       "    <tr>\n",
       "      <td>4</td>\n",
       "      <td>10857</td>\n",
       "      <td>2</td>\n",
       "      <td>51-55</td>\n",
       "      <td>Partner</td>\n",
       "      <td>Manual Worker</td>\n",
       "      <td>Manual Worker</td>\n",
       "      <td>Own Home</td>\n",
       "      <td>&lt;27,500, &gt;=25,000</td>\n",
       "      <td>Yes</td>\n",
       "      <td>Yes</td>\n",
       "      <td>...</td>\n",
       "      <td>0.00</td>\n",
       "      <td>0.0</td>\n",
       "      <td>2.0</td>\n",
       "      <td>Female</td>\n",
       "      <td>South West</td>\n",
       "      <td>48.58</td>\n",
       "      <td>9.58</td>\n",
       "      <td>20.65</td>\n",
       "      <td>56.17</td>\n",
       "      <td>train</td>\n",
       "    </tr>\n",
       "  </tbody>\n",
       "</table>\n",
       "<p>5 rows × 33 columns</p>\n",
       "</div>"
      ],
      "text/plain": [
       "   REF_NO children age_band   status     occupation occupation_partner  \\\n",
       "0    2148        1    45-50  Partner   Professional       Professional   \n",
       "1    8099        1    61-65  Partner        Retired            Retired   \n",
       "2    6611        3    31-35  Partner   Professional       Professional   \n",
       "3    1950     Zero    55-60  Partner   Professional       Professional   \n",
       "4   10857        2    51-55  Partner  Manual Worker      Manual Worker   \n",
       "\n",
       "      home_status      family_income self_employed self_employed_partner  ...  \\\n",
       "0  Rent Privately           >=35,000           Yes                   Yes  ...   \n",
       "1        Own Home  <12,500, >=10,000            No                    No  ...   \n",
       "2        Own Home           >=35,000            No                    No  ...   \n",
       "3        Own Home           >=35,000            No                    No  ...   \n",
       "4        Own Home  <27,500, >=25,000           Yes                   Yes  ...   \n",
       "\n",
       "   Home.Loan Online.Purchase.Amount Revenue.Grid  gender       region  \\\n",
       "0       2.48                    0.0          2.0  Female   South West   \n",
       "1       3.99                    0.0          2.0  Female      Unknown   \n",
       "2       0.00                    0.0          2.0    Male  East Anglia   \n",
       "3       0.00                    0.0          2.0  Female   North West   \n",
       "4       0.00                    0.0          2.0  Female   South West   \n",
       "\n",
       "   Investment.in.Commudity  Investment.in.Equity  Investment.in.Derivative  \\\n",
       "0                    65.87                  9.27                     30.93   \n",
       "1                    42.46                  4.49                     26.23   \n",
       "2                    75.38                  0.00                     26.66   \n",
       "3                    34.78                  6.91                     29.24   \n",
       "4                    48.58                  9.58                     20.65   \n",
       "\n",
       "   Portfolio.Balance   data  \n",
       "0              87.48  train  \n",
       "1             110.73  train  \n",
       "2             127.57  train  \n",
       "3              33.79  train  \n",
       "4              56.17  train  \n",
       "\n",
       "[5 rows x 33 columns]"
      ]
     },
     "execution_count": 6,
     "metadata": {},
     "output_type": "execute_result"
    }
   ],
   "source": [
    "bd_all.head()"
   ]
  },
  {
   "cell_type": "code",
   "execution_count": 7,
   "metadata": {},
   "outputs": [
    {
     "data": {
      "text/plain": [
       "REF_NO                               int64\n",
       "children                            object\n",
       "age_band                            object\n",
       "status                              object\n",
       "occupation                          object\n",
       "occupation_partner                  object\n",
       "home_status                         object\n",
       "family_income                       object\n",
       "self_employed                       object\n",
       "self_employed_partner               object\n",
       "year_last_moved                      int64\n",
       "TVarea                              object\n",
       "post_code                           object\n",
       "post_area                           object\n",
       "Average.Credit.Card.Transaction    float64\n",
       "Balance.Transfer                   float64\n",
       "Term.Deposit                       float64\n",
       "Life.Insurance                     float64\n",
       "Medical.Insurance                  float64\n",
       "Average.A.C.Balance                float64\n",
       "Personal.Loan                      float64\n",
       "Investment.in.Mutual.Fund          float64\n",
       "Investment.Tax.Saving.Bond         float64\n",
       "Home.Loan                          float64\n",
       "Online.Purchase.Amount             float64\n",
       "Revenue.Grid                       float64\n",
       "gender                              object\n",
       "region                              object\n",
       "Investment.in.Commudity            float64\n",
       "Investment.in.Equity               float64\n",
       "Investment.in.Derivative           float64\n",
       "Portfolio.Balance                  float64\n",
       "data                                object\n",
       "dtype: object"
      ]
     },
     "execution_count": 7,
     "metadata": {},
     "output_type": "execute_result"
    }
   ],
   "source": [
    "bd_all.dtypes"
   ]
  },
  {
   "cell_type": "code",
   "execution_count": 8,
   "metadata": {},
   "outputs": [
    {
     "data": {
      "text/plain": [
       "2.0    7261\n",
       "1.0     863\n",
       "Name: Revenue.Grid, dtype: int64"
      ]
     },
     "execution_count": 8,
     "metadata": {},
     "output_type": "execute_result"
    }
   ],
   "source": [
    "bd_all['Revenue.Grid'].value_counts()"
   ]
  },
  {
   "cell_type": "code",
   "execution_count": 9,
   "metadata": {},
   "outputs": [
    {
     "data": {
      "text/plain": [
       "Zero    6208\n",
       "1       1848\n",
       "2       1607\n",
       "3        473\n",
       "4+        19\n",
       "Name: children, dtype: int64"
      ]
     },
     "execution_count": 9,
     "metadata": {},
     "output_type": "execute_result"
    }
   ],
   "source": [
    "bd_all['children'].value_counts()"
   ]
  },
  {
   "cell_type": "code",
   "execution_count": 10,
   "metadata": {},
   "outputs": [
    {
     "data": {
      "text/plain": [
       "45-50      1359\n",
       "36-40      1134\n",
       "41-45      1112\n",
       "31-35      1061\n",
       "51-55      1052\n",
       "55-60      1047\n",
       "26-30       927\n",
       "61-65       881\n",
       "65-70       598\n",
       "22-25       456\n",
       "71+         410\n",
       "18-21        63\n",
       "Unknown      55\n",
       "Name: age_band, dtype: int64"
      ]
     },
     "execution_count": 10,
     "metadata": {},
     "output_type": "execute_result"
    }
   ],
   "source": [
    "bd_all['age_band'].value_counts()"
   ]
  },
  {
   "cell_type": "code",
   "execution_count": 11,
   "metadata": {},
   "outputs": [],
   "source": [
    "#REF_NO, post_code, post_area : drop\n",
    "#children : convert to numeric\n",
    "#age_band, status, occupation, occupation_partner,home_status,family_income,TVarea, region, gender : dummies\n",
    "#Revenue Grid (1, 2) : (1,0)"
   ]
  },
  {
   "cell_type": "code",
   "execution_count": 12,
   "metadata": {},
   "outputs": [],
   "source": [
    "bd_all.drop(['REF_NO', 'post_code', 'post_area'], axis = 1, inplace=True)"
   ]
  },
  {
   "cell_type": "code",
   "execution_count": 13,
   "metadata": {},
   "outputs": [],
   "source": [
    "bd_all['children'] = bd_all['children'].map({'Zero':0, '4+':4, '1': 1,'2': 2,'3': 3})\n",
    "bd_all['children']= pd.to_numeric(bd_all['children'], errors = 'coerce')"
   ]
  },
  {
   "cell_type": "code",
   "execution_count": 14,
   "metadata": {},
   "outputs": [
    {
     "data": {
      "text/plain": [
       "0    1\n",
       "1    1\n",
       "2    3\n",
       "3    0\n",
       "4    2\n",
       "Name: children, dtype: int64"
      ]
     },
     "execution_count": 14,
     "metadata": {},
     "output_type": "execute_result"
    }
   ],
   "source": [
    "bd_all['children'].head()"
   ]
  },
  {
   "cell_type": "code",
   "execution_count": 15,
   "metadata": {},
   "outputs": [],
   "source": [
    "bd_all['Revenue.Grid'] = (bd_all['Revenue.Grid']==1).astype(int)"
   ]
  },
  {
   "cell_type": "code",
   "execution_count": 16,
   "metadata": {},
   "outputs": [
    {
     "data": {
      "text/plain": [
       "0    9292\n",
       "1     863\n",
       "Name: Revenue.Grid, dtype: int64"
      ]
     },
     "execution_count": 16,
     "metadata": {},
     "output_type": "execute_result"
    }
   ],
   "source": [
    "bd_all['Revenue.Grid'].value_counts()"
   ]
  },
  {
   "cell_type": "code",
   "execution_count": 17,
   "metadata": {},
   "outputs": [
    {
     "data": {
      "text/plain": [
       "Index(['age_band', 'status', 'occupation', 'occupation_partner', 'home_status',\n",
       "       'family_income', 'self_employed', 'self_employed_partner', 'TVarea',\n",
       "       'gender', 'region', 'data'],\n",
       "      dtype='object')"
      ]
     },
     "execution_count": 17,
     "metadata": {},
     "output_type": "execute_result"
    }
   ],
   "source": [
    "cat_vars = bd_all.select_dtypes(['object']).columns\n",
    "cat_vars"
   ]
  },
  {
   "cell_type": "code",
   "execution_count": 18,
   "metadata": {},
   "outputs": [
    {
     "name": "stdout",
     "output_type": "stream",
     "text": [
      "age_band\n",
      "status\n",
      "occupation\n",
      "occupation_partner\n",
      "home_status\n",
      "family_income\n",
      "self_employed\n",
      "self_employed_partner\n",
      "TVarea\n",
      "gender\n",
      "region\n"
     ]
    }
   ],
   "source": [
    "for col in cat_vars[:-1]:\n",
    "    dummy = pd.get_dummies(bd_all[col],  drop_first=True, prefix=col)\n",
    "    bd_all= pd.concat([bd_all,dummy], axis=1)\n",
    "    del bd_all[col]\n",
    "    print(col)\n",
    "del dummy"
   ]
  },
  {
   "cell_type": "code",
   "execution_count": 19,
   "metadata": {},
   "outputs": [
    {
     "name": "stderr",
     "output_type": "stream",
     "text": [
      "/home/glenshel/anaconda3/lib/python3.7/site-packages/pandas/core/frame.py:4102: SettingWithCopyWarning: \n",
      "A value is trying to be set on a copy of a slice from a DataFrame\n",
      "\n",
      "See the caveats in the documentation: http://pandas.pydata.org/pandas-docs/stable/user_guide/indexing.html#returning-a-view-versus-a-copy\n",
      "  errors=errors,\n"
     ]
    }
   ],
   "source": [
    "bd_train = bd_all[bd_all['data']=='train']\n",
    "del bd_train['data']\n",
    "bd_test = bd_all[bd_all['data']=='test']\n",
    "bd_test.drop(['Revenue.Grid','data'], axis=1, inplace = True)"
   ]
  },
  {
   "cell_type": "code",
   "execution_count": 20,
   "metadata": {},
   "outputs": [],
   "source": [
    "from sklearn.linear_model import LogisticRegression"
   ]
  },
  {
   "cell_type": "code",
   "execution_count": 21,
   "metadata": {},
   "outputs": [],
   "source": [
    "params = {'class_weight' : ['balanced', None],\n",
    "          'penalty' : ['l1', 'l2'],\n",
    "           'C' : np.linspace(0.1, 100, 10)}"
   ]
  },
  {
   "cell_type": "code",
   "execution_count": 22,
   "metadata": {},
   "outputs": [],
   "source": [
    "model = LogisticRegression()"
   ]
  },
  {
   "cell_type": "code",
   "execution_count": 23,
   "metadata": {},
   "outputs": [],
   "source": [
    "x_train = bd_train.drop(['Revenue.Grid'], axis= 1)\n",
    "y_train = bd_train['Revenue.Grid']"
   ]
  },
  {
   "cell_type": "code",
   "execution_count": 24,
   "metadata": {},
   "outputs": [],
   "source": [
    "from sklearn.model_selection import train_test_split"
   ]
  },
  {
   "cell_type": "code",
   "execution_count": 25,
   "metadata": {},
   "outputs": [],
   "source": [
    "X_train, X_test, Y_train, Y_test = train_test_split(x_train, y_train, test_size = 0.3, random_state = 5)"
   ]
  },
  {
   "cell_type": "code",
   "execution_count": 26,
   "metadata": {},
   "outputs": [
    {
     "name": "stderr",
     "output_type": "stream",
     "text": [
      "/home/glenshel/anaconda3/lib/python3.7/site-packages/sklearn/linear_model/logistic.py:432: FutureWarning: Default solver will be changed to 'lbfgs' in 0.22. Specify a solver to silence this warning.\n",
      "  FutureWarning)\n"
     ]
    }
   ],
   "source": [
    "lr = model.fit(X_train, Y_train)"
   ]
  },
  {
   "cell_type": "code",
   "execution_count": 27,
   "metadata": {},
   "outputs": [],
   "source": [
    "predict_lr = lr.predict(X_test)"
   ]
  },
  {
   "cell_type": "code",
   "execution_count": 28,
   "metadata": {},
   "outputs": [
    {
     "data": {
      "text/plain": [
       "((2438,), (2438,))"
      ]
     },
     "execution_count": 28,
     "metadata": {},
     "output_type": "execute_result"
    }
   ],
   "source": [
    "predict_lr.shape, Y_test.shape"
   ]
  },
  {
   "cell_type": "code",
   "execution_count": 29,
   "metadata": {},
   "outputs": [],
   "source": [
    "from sklearn.metrics import confusion_matrix\n",
    "cm = confusion_matrix(Y_test, predict_lr)"
   ]
  },
  {
   "cell_type": "code",
   "execution_count": 30,
   "metadata": {},
   "outputs": [
    {
     "data": {
      "text/plain": [
       "array([[2150,   43],\n",
       "       [  94,  151]])"
      ]
     },
     "execution_count": 30,
     "metadata": {},
     "output_type": "execute_result"
    }
   ],
   "source": [
    "cm"
   ]
  },
  {
   "cell_type": "code",
   "execution_count": 31,
   "metadata": {},
   "outputs": [
    {
     "data": {
      "text/plain": [
       "0.9438063986874488"
      ]
     },
     "execution_count": 31,
     "metadata": {},
     "output_type": "execute_result"
    }
   ],
   "source": [
    "from sklearn.metrics import accuracy_score\n",
    "accuracy=accuracy_score(Y_test, predict_lr)\n",
    "accuracy"
   ]
  },
  {
   "cell_type": "code",
   "execution_count": 32,
   "metadata": {},
   "outputs": [],
   "source": [
    "from sklearn.model_selection import GridSearchCV"
   ]
  },
  {
   "cell_type": "code",
   "execution_count": 33,
   "metadata": {},
   "outputs": [],
   "source": [
    "grid_search = GridSearchCV(model, param_grid=params, cv = 5, n_jobs=-1, scoring = 'accuracy')"
   ]
  },
  {
   "cell_type": "code",
   "execution_count": 34,
   "metadata": {},
   "outputs": [
    {
     "name": "stderr",
     "output_type": "stream",
     "text": [
      "/home/glenshel/anaconda3/lib/python3.7/site-packages/sklearn/linear_model/logistic.py:432: FutureWarning: Default solver will be changed to 'lbfgs' in 0.22. Specify a solver to silence this warning.\n",
      "  FutureWarning)\n"
     ]
    },
    {
     "data": {
      "text/plain": [
       "GridSearchCV(cv=5, error_score='raise-deprecating',\n",
       "             estimator=LogisticRegression(C=1.0, class_weight=None, dual=False,\n",
       "                                          fit_intercept=True,\n",
       "                                          intercept_scaling=1, l1_ratio=None,\n",
       "                                          max_iter=100, multi_class='warn',\n",
       "                                          n_jobs=None, penalty='l2',\n",
       "                                          random_state=None, solver='warn',\n",
       "                                          tol=0.0001, verbose=0,\n",
       "                                          warm_start=False),\n",
       "             iid='warn', n_jobs=-1,\n",
       "             param_grid={'C': array([  0.1,  11.2,  22.3,  33.4,  44.5,  55.6,  66.7,  77.8,  88.9,\n",
       "       100. ]),\n",
       "                         'class_weight': ['balanced', None],\n",
       "                         'penalty': ['l1', 'l2']},\n",
       "             pre_dispatch='2*n_jobs', refit=True, return_train_score=False,\n",
       "             scoring='accuracy', verbose=0)"
      ]
     },
     "execution_count": 34,
     "metadata": {},
     "output_type": "execute_result"
    }
   ],
   "source": [
    "grid_search.fit(X_train, Y_train)"
   ]
  },
  {
   "cell_type": "code",
   "execution_count": 35,
   "metadata": {},
   "outputs": [
    {
     "data": {
      "text/plain": [
       "0.9456559971860711"
      ]
     },
     "execution_count": 35,
     "metadata": {},
     "output_type": "execute_result"
    }
   ],
   "source": [
    "grid_search.best_score_"
   ]
  },
  {
   "cell_type": "code",
   "execution_count": 36,
   "metadata": {},
   "outputs": [
    {
     "data": {
      "text/plain": [
       "{'C': 0.1, 'class_weight': None, 'penalty': 'l1'}"
      ]
     },
     "execution_count": 36,
     "metadata": {},
     "output_type": "execute_result"
    }
   ],
   "source": [
    "grid_search.best_params_"
   ]
  },
  {
   "cell_type": "code",
   "execution_count": 38,
   "metadata": {},
   "outputs": [
    {
     "data": {
      "text/plain": [
       "0.9446267432321575"
      ]
     },
     "execution_count": 38,
     "metadata": {},
     "output_type": "execute_result"
    }
   ],
   "source": [
    "grid_lr = grid_search.predict(X_test)\n",
    "grid_accuracy = accuracy_score(Y_test, grid_lr)\n",
    "grid_accuracy"
   ]
  }
 ],
 "metadata": {
  "kernelspec": {
   "display_name": "Python 3",
   "language": "python",
   "name": "python3"
  },
  "language_info": {
   "codemirror_mode": {
    "name": "ipython",
    "version": 3
   },
   "file_extension": ".py",
   "mimetype": "text/x-python",
   "name": "python",
   "nbconvert_exporter": "python",
   "pygments_lexer": "ipython3",
   "version": "3.7.4"
  }
 },
 "nbformat": 4,
 "nbformat_minor": 2
}
